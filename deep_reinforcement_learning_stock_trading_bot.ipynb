{
  "nbformat": 4,
  "nbformat_minor": 0,
  "metadata": {
    "colab": {
      "name": "deep_reinforcement_learning_stock_trading_bot.ipynb",
      "version": "0.3.2",
      "provenance": [],
      "collapsed_sections": [],
      "include_colab_link": true
    },
    "kernelspec": {
      "name": "python3",
      "display_name": "Python 3"
    }
  },
  "cells": [
    {
      "cell_type": "markdown",
      "metadata": {
        "id": "view-in-github",
        "colab_type": "text"
      },
      "source": [
        "<a href=\"https://colab.research.google.com/github/ai-portfolio/deep_reinforcement_learning_stock_trading_bot/blob/master/deep_reinforcement_learning_stock_trading_bot.ipynb\" target=\"_parent\"><img src=\"https://colab.research.google.com/assets/colab-badge.svg\" alt=\"Open In Colab\"/></a>"
      ]
    },
    {
      "cell_type": "markdown",
      "metadata": {
        "id": "lJxvAznlrUHJ",
        "colab_type": "text"
      },
      "source": [
        "# Deep Reinforcement Learning Stock Trading Network\n",
        "Stock trading bot built using deep Q-networks\n",
        "\n",
        "author: Neal Gilmore   \n",
        "\n",
        "\n",
        "### NOTE: Please do NOT trade using this application. This is for demonstration purposes ONLY! Any trading is done at your own risk and I will not be held liable."
      ]
    },
    {
      "cell_type": "markdown",
      "metadata": {
        "id": "TfeiImPYr6CD",
        "colab_type": "text"
      },
      "source": [
        "## STEP 1: Install dependencies and setup environment"
      ]
    },
    {
      "cell_type": "code",
      "metadata": {
        "id": "4nTs1EcbsAU_",
        "colab_type": "code",
        "colab": {}
      },
      "source": [
        ""
      ],
      "execution_count": 0,
      "outputs": []
    },
    {
      "cell_type": "markdown",
      "metadata": {
        "id": "Nc7lA7IYsH7t",
        "colab_type": "text"
      },
      "source": [
        "## STEP 2: Import required libraries and dependencies"
      ]
    },
    {
      "cell_type": "code",
      "metadata": {
        "id": "PYjlTMa6sNdc",
        "colab_type": "code",
        "colab": {}
      },
      "source": [
        ""
      ],
      "execution_count": 0,
      "outputs": []
    },
    {
      "cell_type": "markdown",
      "metadata": {
        "id": "8JIAeI-jsO2M",
        "colab_type": "text"
      },
      "source": [
        "## STEP 3: Build AI Trading Network"
      ]
    },
    {
      "cell_type": "code",
      "metadata": {
        "id": "V5W44Nh2sTU3",
        "colab_type": "code",
        "colab": {}
      },
      "source": [
        ""
      ],
      "execution_count": 0,
      "outputs": []
    }
  ]
}